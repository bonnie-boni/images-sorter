{
 "cells": [
  {
   "cell_type": "code",
   "execution_count": null,
   "metadata": {},
   "outputs": [
    {
     "name": "stderr",
     "output_type": "stream",
     "text": [
      "2024-02-27 00:35:10.672179: I external/local_tsl/tsl/cuda/cudart_stub.cc:31] Could not find cuda drivers on your machine, GPU will not be used.\n",
      "2024-02-27 00:35:11.476347: E external/local_xla/xla/stream_executor/cuda/cuda_dnn.cc:9261] Unable to register cuDNN factory: Attempting to register factory for plugin cuDNN when one has already been registered\n",
      "2024-02-27 00:35:11.476481: E external/local_xla/xla/stream_executor/cuda/cuda_fft.cc:607] Unable to register cuFFT factory: Attempting to register factory for plugin cuFFT when one has already been registered\n",
      "2024-02-27 00:35:11.856533: E external/local_xla/xla/stream_executor/cuda/cuda_blas.cc:1515] Unable to register cuBLAS factory: Attempting to register factory for plugin cuBLAS when one has already been registered\n",
      "2024-02-27 00:35:12.080509: I external/local_tsl/tsl/cuda/cudart_stub.cc:31] Could not find cuda drivers on your machine, GPU will not be used.\n",
      "2024-02-27 00:35:12.081319: I tensorflow/core/platform/cpu_feature_guard.cc:182] This TensorFlow binary is optimized to use available CPU instructions in performance-critical operations.\n",
      "To enable the following instructions: AVX2 FMA, in other operations, rebuild TensorFlow with the appropriate compiler flags.\n",
      "2024-02-27 00:35:20.811558: W tensorflow/compiler/tf2tensorrt/utils/py_utils.cc:38] TF-TRT Warning: Could not find TensorRT\n"
     ]
    },
    {
     "name": "stdout",
     "output_type": "stream",
     "text": [
      "done...\n"
     ]
    },
    {
     "name": "stderr",
     "output_type": "stream",
     "text": [
      "/home/bonnie/.local/lib/python3.10/site-packages/matplotlib/projections/__init__.py:63: UserWarning: Unable to import Axes3D. This may be due to multiple versions of Matplotlib being installed (e.g. as a system package and as a pip package). As a result, the 3D projection is not available.\n",
      "  warnings.warn(\"Unable to import Axes3D. This may be due to multiple versions of \"\n"
     ]
    }
   ],
   "source": [
    "#importing libraries\n",
    "import os\n",
    "import shutil\n",
    "import random"
   ]
  },
  {
   "cell_type": "code",
   "execution_count": null,
   "metadata": {},
   "outputs": [],
   "source": [
    "source_dir = '/content/catsdogs/cat_dog/'  # Define the source directory containing the mixed images\n",
    "target_dir_cats = '/content/catsdogs/cats' #path to the target class \n",
    "target_dir_dogs = '/content/catsdogs/dogs/' #path to the target class \n",
    "\n",
    "# Create target directories if they don't exist\n",
    "os.makedirs(target_dir_cats, exist_ok=True)\n",
    "os.makedirs(target_dir_dogs, exist_ok=True)\n"
   ]
  },
  {
   "cell_type": "code",
   "execution_count": null,
   "metadata": {},
   "outputs": [],
   "source": [
    "# diffrenciating the images and moving them to the target directories\n",
    "\n",
    "# Iterate through the source directory\n",
    "for filename in os.listdir(source_dir):\n",
    "\n",
    "    # Check if the file is an image file\n",
    "    if filename.endswith('.jpg') or filename.endswith('.jpeg') or filename.endswith('.png'):\n",
    "        \n",
    "        # Determine the class label based on the filename or any other criteria\n",
    "        if 'cat' in filename:\n",
    "            target_dir = target_dir_cats\n",
    "        elif 'dog' in filename:\n",
    "            target_dir = target_dir_dogs\n",
    "        else:\n",
    "            # Skip files that don't belong to either class\n",
    "            continue\n",
    "\n",
    "        # Move or copy the image to the corresponding target directory\n",
    "        source_path = os.path.join(source_dir, filename)\n",
    "        target_path = os.path.join(target_dir, filename)\n",
    "        shutil.copy(source_path, target_path)  # Change to shutil.move() if you want to move the files instead of copying\n"
   ]
  },
  {
   "cell_type": "code",
   "execution_count": null,
   "metadata": {},
   "outputs": [],
   "source": [
    "# Optionally, shuffle the images within each class directory\n",
    "for target_dir in [target_dir_cats, target_dir_dogs]:\n",
    "    filenames = os.listdir(target_dir)\n",
    "    random.shuffle(filenames)\n",
    "    for i, filename in enumerate(filenames):\n",
    "        os.rename(os.path.join(target_dir, filename), os.path.join(target_dir, f'{i+1}.jpg'))  # Renaming files for consistency (optional)\n"
   ]
  }
 ],
 "metadata": {
  "kernelspec": {
   "display_name": "Python 3",
   "language": "python",
   "name": "python3"
  },
  "language_info": {
   "codemirror_mode": {
    "name": "ipython",
    "version": 3
   },
   "file_extension": ".py",
   "mimetype": "text/x-python",
   "name": "python",
   "nbconvert_exporter": "python",
   "pygments_lexer": "ipython3",
   "version": "3.10.12"
  }
 },
 "nbformat": 4,
 "nbformat_minor": 2
}
